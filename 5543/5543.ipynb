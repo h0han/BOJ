{
 "cells": [
  {
   "cell_type": "code",
   "execution_count": 2,
   "metadata": {},
   "outputs": [
    {
     "name": "stdout",
     "output_type": "stream",
     "text": [
      "800\n",
      "700\n",
      "900\n",
      "198\n",
      "330\n",
      "848\n"
     ]
    }
   ],
   "source": [
    "bur_lst = []\n",
    "bev_lst = []\n",
    "for burger in range(3):\n",
    "    burger = int(input())\n",
    "    bur_lst.append(burger)\n",
    "for bev in range(2):\n",
    "    bev = int(input())\n",
    "    bev_lst.append(bev)\n",
    "burger = min(bur_lst)\n",
    "bev = min(bev_lst)\n",
    "print(burger + bev - 50)"
   ]
  }
 ],
 "metadata": {
  "kernelspec": {
   "display_name": "Python 3",
   "language": "python",
   "name": "python3"
  },
  "language_info": {
   "codemirror_mode": {
    "name": "ipython",
    "version": 3
   },
   "file_extension": ".py",
   "mimetype": "text/x-python",
   "name": "python",
   "nbconvert_exporter": "python",
   "pygments_lexer": "ipython3",
   "version": "3.7.4"
  }
 },
 "nbformat": 4,
 "nbformat_minor": 2
}
