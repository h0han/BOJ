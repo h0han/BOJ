{
 "cells": [
  {
   "cell_type": "code",
   "execution_count": 6,
   "metadata": {},
   "outputs": [
    {
     "name": "stdout",
     "output_type": "stream",
     "text": [
      "001\n",
      "1\n"
     ]
    }
   ],
   "source": [
    "# 시간초과\n",
    "input_num = input()\n",
    "binary = \"\"\n",
    "def moduler(num):    \n",
    "    num = int(num)\n",
    "    tmp_num = \"\"\n",
    "    while num != 0:\n",
    "        if num%2 == 0:\n",
    "            tmp_num += '0'\n",
    "        elif num%2 == 1:\n",
    "            tmp_num += '1'\n",
    "        num = int(num/2)\n",
    "    while len(tmp_num) != 3:\n",
    "        tmp_num += '0'\n",
    "    tmp_num = tmp_num[::-1]\n",
    "    return tmp_num\n",
    "\n",
    "for n in input_num:\n",
    "    binary += moduler(n)\n",
    "    \n",
    "while binary[0] == '0':\n",
    "    binary = binary[1:]\n",
    "\n",
    "print(binary)"
   ]
  },
  {
   "cell_type": "code",
   "execution_count": 13,
   "metadata": {},
   "outputs": [
    {
     "name": "stdout",
     "output_type": "stream",
     "text": [
      "314\n",
      "11001100\n"
     ]
    }
   ],
   "source": [
    "# 시간초과\n",
    "input_num = input()\n",
    "binary = \"\"\n",
    "num_dict = {'0' : '000', '1' : '001', '2' : '010', '3' : '011', '4' : '100', '5' : '101', '6' : '110', '7' : '111'}\n",
    "cnt = 0\n",
    "if input_num[0]\n",
    "for i in input_num:\n",
    "    if cnt == 0:\n",
    "        if i == '0':\n",
    "            continue\n",
    "        elif i == '1':\n",
    "            binary += '1'\n",
    "        elif i == '2':\n",
    "            binary += '10'\n",
    "        elif i == '3':\n",
    "            binary += '11'\n",
    "    else:\n",
    "        binary += num_dict[i]\n",
    "    cnt += 1\n",
    "print(binary)"
   ]
  }
 ],
 "metadata": {
  "kernelspec": {
   "display_name": "Python 3",
   "language": "python",
   "name": "python3"
  },
  "language_info": {
   "codemirror_mode": {
    "name": "ipython",
    "version": 3
   },
   "file_extension": ".py",
   "mimetype": "text/x-python",
   "name": "python",
   "nbconvert_exporter": "python",
   "pygments_lexer": "ipython3",
   "version": "3.7.0"
  }
 },
 "nbformat": 4,
 "nbformat_minor": 2
}
