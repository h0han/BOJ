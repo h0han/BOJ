{
 "cells": [
  {
   "cell_type": "code",
   "execution_count": 7,
   "metadata": {},
   "outputs": [
    {
     "name": "stdout",
     "output_type": "stream",
     "text": [
      "314\n",
      "11001100\n"
     ]
    }
   ],
   "source": [
    "input_num = input()\n",
    "binary = \"\"\n",
    "def moduler(num):    \n",
    "    num = int(num)\n",
    "    tmp_num = \"\"\n",
    "    while num != 0:\n",
    "        if num%2 == 0:\n",
    "            tmp_num += '0'\n",
    "        elif num%2 == 1:\n",
    "            tmp_num += '1'\n",
    "        num = int(num/2)\n",
    "    while len(tmp_num) != 3:\n",
    "        tmp_num += '0'\n",
    "    tmp_num = tmp_num[::-1]\n",
    "    return tmp_num\n",
    "\n",
    "for n in input_num:\n",
    "    binary += moduler(n)\n",
    "    \n",
    "if binary[0] == '0':\n",
    "    print(binary[1:])\n",
    "else:\n",
    "    print(binary)"
   ]
  },
  {
   "cell_type": "code",
   "execution_count": 3,
   "metadata": {},
   "outputs": [
    {
     "name": "stdout",
     "output_type": "stream",
     "text": [
      "3\n",
      "<class 'str'>\n"
     ]
    }
   ],
   "source": [
    "a = input()\n",
    "print(type(a))"
   ]
  },
  {
   "cell_type": "code",
   "execution_count": null,
   "metadata": {},
   "outputs": [],
   "source": []
  }
 ],
 "metadata": {
  "kernelspec": {
   "display_name": "Python 3",
   "language": "python",
   "name": "python3"
  },
  "language_info": {
   "codemirror_mode": {
    "name": "ipython",
    "version": 3
   },
   "file_extension": ".py",
   "mimetype": "text/x-python",
   "name": "python",
   "nbconvert_exporter": "python",
   "pygments_lexer": "ipython3",
   "version": "3.7.0"
  }
 },
 "nbformat": 4,
 "nbformat_minor": 2
}
